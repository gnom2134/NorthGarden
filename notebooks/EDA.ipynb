{
 "cells": [
  {
   "cell_type": "code",
   "execution_count": 77,
   "metadata": {
    "collapsed": true
   },
   "outputs": [
    {
     "name": "stderr",
     "output_type": "stream",
     "text": [
      "[nltk_data] Downloading package stopwords to\n",
      "[nltk_data]     C:\\Users\\gnom2\\AppData\\Roaming\\nltk_data...\n",
      "[nltk_data]   Package stopwords is already up-to-date!\n",
      "[nltk_data] Downloading package wordnet to\n",
      "[nltk_data]     C:\\Users\\gnom2\\AppData\\Roaming\\nltk_data...\n",
      "[nltk_data]   Package wordnet is already up-to-date!\n",
      "[nltk_data] Downloading package omw-1.4 to\n",
      "[nltk_data]     C:\\Users\\gnom2\\AppData\\Roaming\\nltk_data...\n",
      "[nltk_data]   Unzipping corpora\\omw-1.4.zip.\n"
     ]
    }
   ],
   "source": [
    "import pandas as pd\n",
    "import numpy as np\n",
    "import nltk\n",
    "import matplotlib.pyplot as plt\n",
    "from pathlib import Path\n",
    "from nltk.corpus import stopwords\n",
    "from nltk.stem import WordNetLemmatizer\n",
    "\n",
    "\n",
    "nltk.download('stopwords')\n",
    "nltk.download('wordnet')\n",
    "nltk.download('omw-1.4')\n",
    "pd.set_option('display.max_columns', None)"
   ]
  },
  {
   "cell_type": "code",
   "execution_count": 78,
   "outputs": [],
   "source": [
    "DATA_PATH = Path(\"../SouthParkData/All-seasons.csv\")"
   ],
   "metadata": {
    "collapsed": false,
    "pycharm": {
     "name": "#%%\n"
    }
   }
  },
  {
   "cell_type": "code",
   "execution_count": 111,
   "outputs": [
    {
     "data": {
      "text/plain": "       Season  Episode Character  \\\n0          10       10      Stan   \n1          10       10      Kyle   \n2          10       10      Stan   \n3          10       10      Chef   \n4          10       10      Stan   \n...       ...      ...       ...   \n70891       9        9      Stan   \n70892       9        9     Randy   \n70893       9        9      Stan   \n70894       9        9     Randy   \n70895       9        9      Stan   \n\n                                                    Line Addressee  \n0           You guys, you guys! Chef is going away. \\r\\n      Kyle  \n1                          Going away? For how long?\\r\\n      Stan  \n2                                           Forever.\\r\\n      Chef  \n3                                    I'm sorry boys.\\r\\n      Stan  \n4      Chef said he's been bored, so he joining a gro...      Chef  \n...                                                  ...       ...  \n70891                     I think you're pushing it.\\r\\n     Randy  \n70892                              How about twenty?\\r\\n      Stan  \n70893                         That's not disciprine.\\r\\n     Randy  \n70894                 Right right. Does vodka count?\\r\\n      Stan  \n70895                                           Dad!\\r\\n       NaN  \n\n[70879 rows x 5 columns]",
      "text/html": "<div>\n<style scoped>\n    .dataframe tbody tr th:only-of-type {\n        vertical-align: middle;\n    }\n\n    .dataframe tbody tr th {\n        vertical-align: top;\n    }\n\n    .dataframe thead th {\n        text-align: right;\n    }\n</style>\n<table border=\"1\" class=\"dataframe\">\n  <thead>\n    <tr style=\"text-align: right;\">\n      <th></th>\n      <th>Season</th>\n      <th>Episode</th>\n      <th>Character</th>\n      <th>Line</th>\n      <th>Addressee</th>\n    </tr>\n  </thead>\n  <tbody>\n    <tr>\n      <th>0</th>\n      <td>10</td>\n      <td>10</td>\n      <td>Stan</td>\n      <td>You guys, you guys! Chef is going away. \\r\\n</td>\n      <td>Kyle</td>\n    </tr>\n    <tr>\n      <th>1</th>\n      <td>10</td>\n      <td>10</td>\n      <td>Kyle</td>\n      <td>Going away? For how long?\\r\\n</td>\n      <td>Stan</td>\n    </tr>\n    <tr>\n      <th>2</th>\n      <td>10</td>\n      <td>10</td>\n      <td>Stan</td>\n      <td>Forever.\\r\\n</td>\n      <td>Chef</td>\n    </tr>\n    <tr>\n      <th>3</th>\n      <td>10</td>\n      <td>10</td>\n      <td>Chef</td>\n      <td>I'm sorry boys.\\r\\n</td>\n      <td>Stan</td>\n    </tr>\n    <tr>\n      <th>4</th>\n      <td>10</td>\n      <td>10</td>\n      <td>Stan</td>\n      <td>Chef said he's been bored, so he joining a gro...</td>\n      <td>Chef</td>\n    </tr>\n    <tr>\n      <th>...</th>\n      <td>...</td>\n      <td>...</td>\n      <td>...</td>\n      <td>...</td>\n      <td>...</td>\n    </tr>\n    <tr>\n      <th>70891</th>\n      <td>9</td>\n      <td>9</td>\n      <td>Stan</td>\n      <td>I think you're pushing it.\\r\\n</td>\n      <td>Randy</td>\n    </tr>\n    <tr>\n      <th>70892</th>\n      <td>9</td>\n      <td>9</td>\n      <td>Randy</td>\n      <td>How about twenty?\\r\\n</td>\n      <td>Stan</td>\n    </tr>\n    <tr>\n      <th>70893</th>\n      <td>9</td>\n      <td>9</td>\n      <td>Stan</td>\n      <td>That's not disciprine.\\r\\n</td>\n      <td>Randy</td>\n    </tr>\n    <tr>\n      <th>70894</th>\n      <td>9</td>\n      <td>9</td>\n      <td>Randy</td>\n      <td>Right right. Does vodka count?\\r\\n</td>\n      <td>Stan</td>\n    </tr>\n    <tr>\n      <th>70895</th>\n      <td>9</td>\n      <td>9</td>\n      <td>Stan</td>\n      <td>Dad!\\r\\n</td>\n      <td>NaN</td>\n    </tr>\n  </tbody>\n</table>\n<p>70879 rows × 5 columns</p>\n</div>"
     },
     "execution_count": 111,
     "metadata": {},
     "output_type": "execute_result"
    }
   ],
   "source": [
    "south_park_data = pd.read_csv(DATA_PATH, header=0)\n",
    "# remove junk rows\n",
    "south_park_data.drop(south_park_data[south_park_data[\"Season\"]==\"Season\"].index, inplace=True)\n",
    "\n",
    "south_park_data[\"Season\"] = south_park_data[\"Season\"].astype(int)\n",
    "south_park_data[\"Episode\"] = south_park_data[\"Season\"].astype(int)\n",
    "south_park_data[\"Addressee\"] = south_park_data[\"Character\"].shift(periods=-1)\n",
    "south_park_data"
   ],
   "metadata": {
    "collapsed": false,
    "pycharm": {
     "name": "#%%\n"
    }
   }
  },
  {
   "cell_type": "code",
   "execution_count": 80,
   "outputs": [
    {
     "data": {
      "text/plain": "0         You guys, you guys! Chef is going away. \\r\\n\n1                        Going away? For how long?\\r\\n\n2                                         Forever.\\r\\n\n3                                  I'm sorry boys.\\r\\n\n4    Chef said he's been bored, so he joining a gro...\nName: Line, dtype: object"
     },
     "execution_count": 80,
     "metadata": {},
     "output_type": "execute_result"
    }
   ],
   "source": [
    "south_park_data[\"Line\"].head()"
   ],
   "metadata": {
    "collapsed": false,
    "pycharm": {
     "name": "#%%\n"
    }
   }
  },
  {
   "cell_type": "code",
   "execution_count": 81,
   "outputs": [
    {
     "data": {
      "text/plain": "<Figure size 720x720 with 1 Axes>",
      "image/png": "[encoded data removed]"
     },
     "metadata": {
      "needs_background": "light"
     },
     "output_type": "display_data"
    }
   ],
   "source": [
    "plt.figure(figsize=(10,10))\n",
    "south_park_data.groupby(\"Season\")[\"Line\"].count().plot.barh()\n",
    "plt.show()"
   ],
   "metadata": {
    "collapsed": false,
    "pycharm": {
     "name": "#%%\n"
    }
   }
  },
  {
   "cell_type": "code",
   "execution_count": 123,
   "outputs": [],
   "source": [
    "def top_n_words(x, n=100):\n",
    "    s = set(stopwords.words(\"english\"))\n",
    "    reg_exp_tokenizer = nltk.tokenize.RegexpTokenizer(r\"\\w+\")\n",
    "    word_lemmatizer = WordNetLemmatizer()\n",
    "    res = {}\n",
    "    for i in x:\n",
    "        tokens = [word_lemmatizer.lemmatize(word) for word in reg_exp_tokenizer.tokenize(i.lower()) if word not in s]\n",
    "        for t in tokens:\n",
    "            res.setdefault(t, 0)\n",
    "            res[t] += 1\n",
    "    res = sorted([(x[1], x[0]) for x in res.items()], reverse=True)\n",
    "    return res[:n]\n",
    "\n",
    "word_dict_seasons = south_park_data.groupby(\"Season\")[\"Line\"].agg(top_n_words).to_dict()"
   ],
   "metadata": {
    "collapsed": false,
    "pycharm": {
     "name": "#%%\n"
    }
   }
  },
  {
   "cell_type": "code",
   "execution_count": 124,
   "outputs": [
    {
     "name": "stdout",
     "output_type": "stream",
     "text": [
      "['back', 'come', 'dude', 'get', 'go', 'god', 'going', 'gonna', 'good', 'got', 'guy', 'hey', 'kid', 'know', 'kyle', 'let', 'like', 'little', 'look', 'make', 'mean', 'need', 'oh', 'okay', 'one', 'people', 'really', 'right', 'say', 'see', 'take', 'tell', 'thing', 'think', 'time', 'u', 'uh', 'want', 'way', 'well', 'would', 'yeah', 'yes']\n"
     ]
    }
   ],
   "source": [
    "intersection = {x[1] for x in word_dict_seasons[1]}\n",
    "\n",
    "for i in word_dict_seasons:\n",
    "    intersection &= {x[1] for x in word_dict_seasons[i]}\n",
    "\n",
    "print(sorted(list(intersection)))"
   ],
   "metadata": {
    "collapsed": false,
    "pycharm": {
     "name": "#%%\n"
    }
   }
  },
  {
   "cell_type": "code",
   "execution_count": 125,
   "outputs": [
    {
     "name": "stdout",
     "output_type": "stream",
     "text": [
      "1 ['dog', 'grampa', 'kick', 'pig', 'triangle', 'whoa']\n",
      "2 ['hankey', 'ned', 'remember', 'stanley']\n",
      "3 ['chinpokomon', 'dreidel', 'ho', 'panda', 'sexual', 'tomorrow']\n",
      "4 ['flag', 'keeper', 'pip', 'timmy', 'tooth']\n",
      "5 ['best', 'scott', 'scout', 'towel', 'word']\n",
      "6 ['bebe', 'tweek']\n",
      "7 ['american', 'country', 'dumb', 'ha', 'lopez', 'war']\n",
      "8 ['awesom', 'douche', 'future', 'gibson', 'jefferson', 'mart', 'mel', 'movie', 'news', 'ninja', 'robot', 'sandwich', 'trent', 'turd', 'vote', 'wall']\n",
      "9 ['broke', 'dam', 'dead', 'egg', 'ginger', 'jimmy', 'talent', 'whale', 'woman']\n",
      "10 ['11', '9', 'episode', 'family', 'hybrid', 'ike', 'manbearpig', 'mohammad', 'president', 'super', 'win']\n",
      "11 ['ball', 'change', 'crap', 'homeless', 'hot', 'imaginary', 'imagination', 'list', 'louse', 'nigger', 'persian', 'picture', 'rabbit', 'terrorist', 'tourette']\n",
      "12 ['aid', 'britney', 'cat', 'chinese', 'craig', 'flute', 'guinea', 'high', 'hiv', 'internet', 'obama', 'penis', 'peruvian', 'vampire']\n",
      "13 ['economy', 'fag', 'fish', 'fishsticks', 'haha', 'japanese', 'joke', 'kiss', 'mysterion', 'pee', 'pirate', 'ring', 'today', 'water']\n",
      "14 ['another', 'berry', 'book', 'coon', 'cthulhu', 'dream', 'fuckin', 'fucking', 'hindsight', 'jersey', 'muhammad', 'nascar', 'next', 'power']\n",
      "15 ['baby', 'blowjob', 'comedy', 'crack', 'every', 'everything', 'mexican', 'poor', 'randy', 'shitty', 'sound', 'student']\n",
      "16 ['around', 'boo', 'bullying', 'clyde', 'jewpacabra', 'somebody', 'thanks', 'trying', 'video']\n",
      "17 ['black', 'emo', 'face', 'friday', 'government', 'hobbit', 'inside', 'mall', 'wiener', 'wrong', 'xbox', 'yummy']\n",
      "18 ['anything', 'bathroom', 'call', 'company', 'customer', 'drone', 'gluten', 'handicar', 'hologram', 'lorde', 'name', 'redskin', 'room', 'service', 'talking', 'use', 'washington', 'ya']\n"
     ]
    }
   ],
   "source": [
    "for i in word_dict_seasons:\n",
    "    season_keywords = {x[1] for x in word_dict_seasons[i]}\n",
    "    for j in word_dict_seasons:\n",
    "        if j != i:\n",
    "            season_keywords -= {x[1] for x in word_dict_seasons[j]}\n",
    "    print(i, sorted(list(season_keywords)))"
   ],
   "metadata": {
    "collapsed": false,
    "pycharm": {
     "name": "#%%\n"
    }
   }
  },
  {
   "cell_type": "code",
   "execution_count": 126,
   "outputs": [],
   "source": [
    "word_dict_characters = south_park_data.groupby(\"Character\")[\"Line\"].agg(top_n_words).to_dict()"
   ],
   "metadata": {
    "collapsed": false,
    "pycharm": {
     "name": "#%%\n"
    }
   }
  },
  {
   "cell_type": "code",
   "execution_count": 127,
   "outputs": [],
   "source": [
    "word_dict_episodes = south_park_data.groupby([\"Season\", \"Episode\"])[\"Line\"].agg(top_n_words).to_dict()"
   ],
   "metadata": {
    "collapsed": false,
    "pycharm": {
     "name": "#%%\n"
    }
   }
  },
  {
   "cell_type": "code",
   "execution_count": 128,
   "outputs": [
    {
     "data": {
      "text/plain": "[(855, 'dude'),\n (532, 'yeah'),\n (417, 'oh'),\n (397, 'cartman'),\n (391, 'get'),\n (388, 'go'),\n (384, 'guy'),\n (362, 'know'),\n (343, 'come'),\n (337, 'gonna'),\n (329, 'dad'),\n (307, 'kyle'),\n (303, 'u'),\n (299, 'like'),\n (262, 'right'),\n (246, 'hey'),\n (239, 'think'),\n (236, 'okay'),\n (233, 'well'),\n (225, 'let'),\n (224, 'really'),\n (220, 'look'),\n (214, 'people'),\n (211, 'kenny'),\n (200, 'see'),\n (186, 'got'),\n (181, 'want'),\n (177, 'uh'),\n (176, 'back'),\n (167, 'time'),\n (153, 'one'),\n (151, 'god'),\n (150, 'need'),\n (150, 'butter'),\n (145, 'something'),\n (145, 'mean'),\n (142, 'make'),\n (141, 'wait'),\n (140, 'going'),\n (134, 'friend'),\n (131, 'wanna'),\n (128, 'thing'),\n (127, 'hell'),\n (126, 'mom'),\n (123, 'way'),\n (122, 'say'),\n (121, 'jesus'),\n (114, 'gotta'),\n (111, 'chef'),\n (110, 'stop'),\n (109, 'take'),\n (106, 'kid'),\n (105, 'good'),\n (103, 'tell'),\n (103, 'said'),\n (97, 'help'),\n (95, 'maybe'),\n (92, 'could'),\n (88, 'cool'),\n (87, 'wow'),\n (87, 'mr'),\n (86, 'stupid'),\n (85, 'big'),\n (84, 'school'),\n (84, 'alright'),\n (82, 'as'),\n (81, 'never'),\n (80, 'please'),\n (79, 'would'),\n (79, 'sure'),\n (77, 'new'),\n (74, 'money'),\n (72, 'wendy'),\n (72, 'little'),\n (72, 'even'),\n (71, 'away'),\n (70, 'play'),\n (70, 'better'),\n (69, 'show'),\n (69, 'give'),\n (69, 'find'),\n (69, 'anything'),\n (68, 'parent'),\n (66, 'huh'),\n (65, 'try'),\n (65, 'suck'),\n (65, 'care'),\n (65, 'aw'),\n (64, 'killed'),\n (63, 'idea'),\n (63, 'everyone'),\n (62, 'talk'),\n (61, 'whoa'),\n (61, 'bad'),\n (59, 'still'),\n (59, 'sorry'),\n (59, 'guess'),\n (58, 'told'),\n (58, 'day'),\n (57, 'trying')]"
     },
     "execution_count": 128,
     "metadata": {},
     "output_type": "execute_result"
    }
   ],
   "source": [
    "word_dict_characters[\"Stan\"]"
   ],
   "metadata": {
    "collapsed": false,
    "pycharm": {
     "name": "#%%\n"
    }
   }
  },
  {
   "cell_type": "code",
   "execution_count": 129,
   "outputs": [
    {
     "data": {
      "text/plain": "[(620, 'dude'),\n (570, 'cartman'),\n (446, 'yeah'),\n (376, 'get'),\n (341, 'know'),\n (324, 'go'),\n (316, 'oh'),\n (264, 'gonna'),\n (262, 'u'),\n (258, 'like'),\n (249, 'stan'),\n (246, 'guy'),\n (242, 'well'),\n (237, 'come'),\n (232, 'think'),\n (232, 'right'),\n (213, 'hey'),\n (204, 'people'),\n (204, 'look'),\n (201, 'really'),\n (188, 'see'),\n (185, 'kenny'),\n (175, 'going'),\n (174, 'god'),\n (169, 'okay'),\n (165, 'got'),\n (164, 'ike'),\n (160, 'let'),\n (159, 'want'),\n (156, 'one'),\n (148, 'hell'),\n (145, 'mr'),\n (139, 'make'),\n (136, 'time'),\n (124, 'butter'),\n (123, 'uh'),\n (122, 'thing'),\n (122, 'back'),\n (119, 'dad'),\n (118, 'something'),\n (116, 'need'),\n (113, 'friend'),\n (110, 'stupid'),\n (108, 'say'),\n (108, 'good'),\n (106, 'wanna'),\n (106, 'stop'),\n (105, 'mean'),\n (104, 'wait'),\n (103, 'take'),\n (102, 'mom'),\n (102, 'little'),\n (102, 'fatass'),\n (96, 'cool'),\n (92, 'would'),\n (92, 'even'),\n (90, 'way'),\n (90, 'play'),\n (89, 'dreidel'),\n (88, 'tell'),\n (86, 'maybe'),\n (82, 'said'),\n (81, 'kid'),\n (77, 'give'),\n (76, 'help'),\n (75, 'made'),\n (75, 'could'),\n (75, 'chef'),\n (73, 'gotta'),\n (73, 'fat'),\n (72, 'as'),\n (71, 'sorry'),\n (71, 'please'),\n (70, 'show'),\n (70, 'everyone'),\n (69, 'brother'),\n (68, 'money'),\n (67, 'yes'),\n (67, 'sure'),\n (67, 'better'),\n (66, 'wow'),\n (66, 'ah'),\n (65, 'school'),\n (65, 'hankey'),\n (63, 'jesus'),\n (62, 'new'),\n (61, 'huh'),\n (61, 'day'),\n (61, 'believe'),\n (60, 'still'),\n (60, 'anything'),\n (59, 'big'),\n (59, 'alright'),\n (57, 'bastard'),\n (56, 'house'),\n (56, 'care'),\n (55, 'try'),\n (55, 'talk'),\n (55, 'feel'),\n (55, 'around')]"
     },
     "execution_count": 129,
     "metadata": {},
     "output_type": "execute_result"
    }
   ],
   "source": [
    "word_dict_characters[\"Kyle\"]"
   ],
   "metadata": {
    "collapsed": false,
    "pycharm": {
     "name": "#%%\n"
    }
   }
  },
  {
   "cell_type": "code",
   "execution_count": 130,
   "outputs": [
    {
     "data": {
      "text/plain": "[(360, 'oh'),\n (340, 'uh'),\n (316, 'well'),\n (185, 'hey'),\n (176, 'yeah'),\n (151, 'know'),\n (146, 'get'),\n (141, 'like'),\n (131, 'go'),\n (123, 'eric'),\n (121, 'gonna'),\n (114, 'huh'),\n (110, 'see'),\n (110, 'ah'),\n (108, 'got'),\n (107, 'dad'),\n (99, 'sure'),\n (96, 'come'),\n (95, 'right'),\n (94, 'think'),\n (91, 'fella'),\n (86, 'really'),\n (85, 'good'),\n (81, 'time'),\n (81, 'okay'),\n (75, 'mom'),\n (74, 'guy'),\n (73, 'boy'),\n (62, 'let'),\n (61, 'back'),\n (60, 'stan'),\n (60, 'look'),\n (59, 'wanna'),\n (58, 'said'),\n (58, 'make'),\n (56, 'little'),\n (55, 'u'),\n (55, 'say'),\n (55, 'gotta'),\n (54, 'butter'),\n (53, 'mean'),\n (52, 'want'),\n (51, 'school'),\n (49, 'take'),\n (48, 'one'),\n (47, 'tell'),\n (47, 'kid'),\n (46, 'yes'),\n (43, 'way'),\n (43, 'people'),\n (43, 'could'),\n (42, 'kyle'),\n (42, 'god'),\n (41, 'awesom'),\n (40, 'eh'),\n (39, 'lu'),\n (38, 'sorry'),\n (38, 'sir'),\n (38, 'never'),\n (37, 'wait'),\n (36, 'jesus'),\n (35, 'wuh'),\n (35, 'show'),\n (35, 'parent'),\n (35, 'jeez'),\n (35, 'hello'),\n (35, 'friend'),\n (34, 'please'),\n (34, 'love'),\n (34, 'girl'),\n (33, 'wow'),\n (33, 'whoa'),\n (33, 'alright'),\n (32, 'wiener'),\n (32, 'thing'),\n (32, 'need'),\n (32, 'kenny'),\n (32, 'feel'),\n (32, 'even'),\n (32, 'bitch'),\n (31, 'ya'),\n (31, 'night'),\n (31, 'ha'),\n (31, 'guess'),\n (30, 'would'),\n (30, 'robot'),\n (30, 'pretty'),\n (30, 'money'),\n (30, 'home'),\n (29, 'told'),\n (29, 'thought'),\n (29, 'real'),\n (29, 'ow'),\n (29, 'loo'),\n (29, 'grounded'),\n (29, 'butt'),\n (29, 'aw'),\n (28, 'world'),\n (27, 'two'),\n (27, 'kind')]"
     },
     "execution_count": 130,
     "metadata": {},
     "output_type": "execute_result"
    }
   ],
   "source": [
    "word_dict_characters[\"Butters\"]"
   ],
   "metadata": {
    "collapsed": false,
    "pycharm": {
     "name": "#%%\n"
    }
   }
  },
  {
   "cell_type": "code",
   "execution_count": 131,
   "outputs": [
    {
     "data": {
      "text/plain": "[(105, 'yeah'),\n (59, 'oh'),\n (50, 'hey'),\n (43, 'guy'),\n (43, 'fuck'),\n (35, 'dude'),\n (34, 'uh'),\n (30, 'woohoo'),\n (29, 'get'),\n (28, 'okay'),\n (27, 'huh'),\n (22, 'fucking'),\n (20, 'know'),\n (18, 'right'),\n (18, 'god'),\n (18, 'go'),\n (16, 'take'),\n (16, 'gonna'),\n (16, 'cartman'),\n (15, 'yes'),\n (15, 'well'),\n (15, 'see'),\n (15, 'like'),\n (14, 'think'),\n (14, 'really'),\n (14, 'got'),\n (14, 'fuckin'),\n (13, 'let'),\n (13, 'kyle'),\n (13, 'gotta'),\n (12, 'look'),\n (12, 'come'),\n (11, 'hoo'),\n (11, 'awesome'),\n (10, 'woo'),\n (10, 'ow'),\n (10, 'ha'),\n (10, 'going'),\n (9, 'could'),\n (8, 'way'),\n (8, 'wanna'),\n (8, 'stop'),\n (8, 'stick'),\n (8, 'stan'),\n (8, 'shit'),\n (8, 'one'),\n (8, 'mom'),\n (8, 'help'),\n (8, 'damn'),\n (7, 'totally'),\n (7, 'time'),\n (7, 'mean'),\n (7, 'good'),\n (7, 'eric'),\n (7, 'cool'),\n (7, 'as'),\n (6, 'wait'),\n (6, 'vagina'),\n (6, 'ugh'),\n (6, 'try'),\n (6, 'te'),\n (6, 'stupid'),\n (6, 'ring'),\n (6, 'quack'),\n (6, 'please'),\n (6, 'nuh'),\n (6, 'nothing'),\n (6, 'little'),\n (6, 'kenni'),\n (6, 'io'),\n (6, 'friend'),\n (6, 'con'),\n (6, 'butter'),\n (6, 'aw'),\n (5, 'watch'),\n (5, 'titty'),\n (5, 'put'),\n (5, 'purincessu'),\n (5, 'mine'),\n (5, 'hell'),\n (5, 'freakin'),\n (5, 'fine'),\n (5, 'dick'),\n (5, 'big'),\n (4, 'yep'),\n (4, 'want'),\n (4, 'thanks'),\n (4, 'sure'),\n (4, 'suck'),\n (4, 'sir'),\n (4, 'shut'),\n (4, 'seems'),\n (4, 'said'),\n (4, 'place'),\n (4, 'penis'),\n (4, 'maybe'),\n (4, 'man'),\n (4, 'make'),\n (4, 'kid'),\n (4, 'kick')]"
     },
     "execution_count": 131,
     "metadata": {},
     "output_type": "execute_result"
    }
   ],
   "source": [
    "word_dict_characters[\"Kenny\"]"
   ],
   "metadata": {
    "collapsed": false,
    "pycharm": {
     "name": "#%%\n"
    }
   }
  },
  {
   "cell_type": "code",
   "execution_count": 132,
   "outputs": [
    {
     "data": {
      "text/plain": "[(972, 'guy'),\n (956, 'oh'),\n (886, 'kyle'),\n (740, 'get'),\n (635, 'right'),\n (592, 'know'),\n (591, 'go'),\n (555, 'gonna'),\n (537, 'like'),\n (530, 'yeah'),\n (484, 'butter'),\n (475, 'well'),\n (460, 'come'),\n (428, 'god'),\n (426, 'dude'),\n (419, 'see'),\n (384, 'kenny'),\n (383, 'okay'),\n (379, 'let'),\n (378, 'got'),\n (372, 'one'),\n (366, 'look'),\n (359, 'think'),\n (353, 'time'),\n (351, 'mom'),\n (347, 'hey'),\n (345, 'u'),\n (344, 'people'),\n (315, 'uh'),\n (290, 'yes'),\n (287, 'want'),\n (263, 'back'),\n (262, 'need'),\n (250, 'make'),\n (250, 'going'),\n (248, 'really'),\n (246, 'take'),\n (218, 'thing'),\n (216, 'stan'),\n (216, 'good'),\n (201, 'say'),\n (200, 'little'),\n (197, 'tell'),\n (195, 'friend'),\n (188, 'could'),\n (187, 'way'),\n (186, 'man'),\n (184, 'hell'),\n (177, 'cool'),\n (175, 'wanna'),\n (175, 'alright'),\n (174, 'mean'),\n (172, 'give'),\n (169, 'everyone'),\n (167, 'stupid'),\n (166, 'wait'),\n (162, 'would'),\n (162, 'jew'),\n (160, 'as'),\n (157, 'mr'),\n (157, 'bitch'),\n (155, 'huh'),\n (148, 'fuck'),\n (144, 'something'),\n (142, 'ball'),\n (139, 'put'),\n (136, 'day'),\n (134, 'stop'),\n (132, 'two'),\n (132, 'school'),\n (129, 'please'),\n (127, 'clyde'),\n (126, 'sure'),\n (124, 'call'),\n (124, 'asshole'),\n (122, 'said'),\n (121, 'jesus'),\n (119, 'maybe'),\n (118, 'token'),\n (118, 'life'),\n (118, 'fine'),\n (118, 'away'),\n (117, 'thank'),\n (117, 'help'),\n (115, 'never'),\n (114, 'show'),\n (114, 'better'),\n (113, 'sweet'),\n (110, 'money'),\n (108, 'kid'),\n (108, 'gotta'),\n (108, 'ah'),\n (107, 'home'),\n (105, 'guess'),\n (105, 'crap'),\n (105, 'believe'),\n (104, 'ever'),\n (104, 'dollar'),\n (103, 'suck'),\n (103, 'much')]"
     },
     "execution_count": 132,
     "metadata": {},
     "output_type": "execute_result"
    }
   ],
   "source": [
    "word_dict_characters[\"Cartman\"]"
   ],
   "metadata": {
    "collapsed": false,
    "pycharm": {
     "name": "#%%\n"
    }
   }
  },
  {
   "cell_type": "code",
   "execution_count": 133,
   "outputs": [
    {
     "data": {
      "text/plain": "[(307, 'oh'),\n (240, 'stan'),\n (233, 'yeah'),\n (187, 'get'),\n (172, 'know'),\n (166, 'well'),\n (156, 'right'),\n (141, 'uh'),\n (141, 'sharon'),\n (138, 'go'),\n (119, 'like'),\n (115, 'hey'),\n (115, 'gonna'),\n (105, 'boy'),\n (104, 'come'),\n (102, 'think'),\n (101, 'okay'),\n (99, 'see'),\n (96, 'u'),\n (96, 'really'),\n (96, 'people'),\n (91, 'look'),\n (90, 'let'),\n (90, 'got'),\n (87, 'son'),\n (80, 'god'),\n (79, 'guy'),\n (77, 'good'),\n (77, 'back'),\n (76, 'want'),\n (69, 'need'),\n (66, 'stanley'),\n (65, 'make'),\n (64, 'sorry'),\n (64, 'little'),\n (63, 'time'),\n (63, 'one'),\n (57, 'going'),\n (55, 'thing'),\n (53, 'yes'),\n (53, 'take'),\n (52, 'could'),\n (51, 'mean'),\n (50, 'new'),\n (49, 'kid'),\n (46, 'wait'),\n (45, 'huh'),\n (45, 'alright'),\n (44, 'say'),\n (42, 'something'),\n (42, 'mr'),\n (42, 'hot'),\n (41, 'way'),\n (41, 'tell'),\n (41, 'put'),\n (40, 'would'),\n (40, 'sure'),\n (40, 'lorde'),\n (39, 'wanna'),\n (38, 'stop'),\n (38, 'shelly'),\n (37, 'much'),\n (36, 'ya'),\n (36, 'great'),\n (35, 'help'),\n (35, 'friend'),\n (33, 'never'),\n (33, 'maybe'),\n (33, 'man'),\n (33, 'love'),\n (33, 'gotta'),\n (33, 'give'),\n (32, 'work'),\n (32, 'thought'),\n (32, 'money'),\n (32, 'everyone'),\n (32, 'day'),\n (31, 'said'),\n (31, 'please'),\n (30, 'ever'),\n (29, 'everything'),\n (29, 'even'),\n (29, 'believe'),\n (29, 'anything'),\n (28, 'understand'),\n (28, 'must'),\n (28, 'listen'),\n (28, 'internet'),\n (28, 'feel'),\n (28, 'better'),\n (28, 'ah'),\n (27, 'hell'),\n (27, 'family'),\n (26, 'still'),\n (26, 'car'),\n (26, 'call'),\n (26, 'big'),\n (26, 'aw'),\n (25, 'woman'),\n (25, 'stay')]"
     },
     "execution_count": 133,
     "metadata": {},
     "output_type": "execute_result"
    }
   ],
   "source": [
    "word_dict_characters[\"Randy\"]"
   ],
   "metadata": {
    "collapsed": false,
    "pycharm": {
     "name": "#%%\n"
    }
   }
  },
  {
   "cell_type": "code",
   "execution_count": 135,
   "outputs": [
    {
     "data": {
      "text/plain": "[(162, 'mr'),\n (130, 'oh'),\n (126, 'child'),\n (108, 'well'),\n (98, 'hat'),\n (92, 'okay'),\n (79, 'get'),\n (69, 'know'),\n (67, 'go'),\n (65, 'let'),\n (62, 'right'),\n (59, 'uh'),\n (58, 'eric'),\n (57, 'like'),\n (50, 'see'),\n (48, 'take'),\n (48, 'going'),\n (43, 'yeah'),\n (41, 'good'),\n (41, 'gonna'),\n (40, 'say'),\n (39, 'want'),\n (39, 'come'),\n (38, 'think'),\n (37, 'little'),\n (36, 'yes'),\n (35, 'kid'),\n (34, 'hell'),\n (33, 'hey'),\n (30, 'tell'),\n (29, 'kyle'),\n (28, 'people'),\n (28, 'boy'),\n (27, 'time'),\n (27, 'slave'),\n (27, 'really'),\n (27, 'one'),\n (27, 'class'),\n (26, 'seat'),\n (26, 'school'),\n (26, 'back'),\n (25, 'new'),\n (25, 'look'),\n (25, 'gay'),\n (24, 'u'),\n (24, 'god'),\n (24, 'fag'),\n (23, 'make'),\n (22, 'sure'),\n (22, 'put'),\n (22, 'please'),\n (22, 'mean'),\n (22, 'kenny'),\n (22, 'guess'),\n (22, 'could'),\n (21, 'wait'),\n (21, 'today'),\n (21, 'never'),\n (21, 'need'),\n (21, 'jesus'),\n (21, 'got'),\n (21, 'as'),\n (20, 'twig'),\n (20, 'thing'),\n (20, 'better'),\n (20, 'alright'),\n (19, 'woman'),\n (19, 'teacher'),\n (19, 'stanley'),\n (19, 'give'),\n (18, 'year'),\n (18, 'way'),\n (18, 'thank'),\n (18, 'stop'),\n (18, 'great'),\n (17, 'would'),\n (16, 'wanna'),\n (16, 'park'),\n (16, 'first'),\n (16, 'christmas'),\n (15, 'two'),\n (15, 'south'),\n (15, 'sorry'),\n (15, 'problem'),\n (14, 'vote'),\n (14, 'try'),\n (14, 'stupid'),\n (14, 'show'),\n (14, 'shitty'),\n (14, 'question'),\n (14, 'last'),\n (14, 'keep'),\n (14, 'huh'),\n (14, 'hand'),\n (14, 'filmore'),\n (14, 'feel'),\n (14, 'father'),\n (14, 'even'),\n (13, 'thought'),\n (13, 'still')]"
     },
     "execution_count": 135,
     "metadata": {},
     "output_type": "execute_result"
    }
   ],
   "source": [
    "word_dict_characters[\"Mr. Garrison\"]"
   ],
   "metadata": {
    "collapsed": false,
    "pycharm": {
     "name": "#%%\n"
    }
   }
  },
  {
   "cell_type": "code",
   "execution_count": 136,
   "outputs": [
    {
     "data": {
      "text/plain": "[(34, 'jesus'),\n (26, 'christ'),\n (20, 'oh'),\n (7, 'mr'),\n (7, 'garrison'),\n (6, 'whore'),\n (4, 'thing'),\n (4, 'people'),\n (4, 'one'),\n (4, 'okay'),\n (4, 'little'),\n (4, 'like'),\n (4, 'kid'),\n (4, 'aah'),\n (3, 'would'),\n (3, 'sweetie'),\n (3, 'see'),\n (3, 'paris'),\n (3, 'never'),\n (3, 'look'),\n (3, 'know'),\n (3, 'kind'),\n (3, 'hilton'),\n (3, 'great'),\n (3, 'girl'),\n (3, 'enough'),\n (2, 'yeth'),\n (2, 'wendy'),\n (2, 'well'),\n (2, 'want'),\n (2, 'wanna'),\n (2, 'think'),\n (2, 'telling'),\n (2, 'supposed'),\n (2, 'stop'),\n (2, 'since'),\n (2, 'remember'),\n (2, 'really'),\n (2, 'principal'),\n (2, 'parent'),\n (2, 'oooooh'),\n (2, 'ooooo'),\n (2, 'need'),\n (2, 'married'),\n (2, 'make'),\n (2, 'life'),\n (2, 'let'),\n (2, 'hi'),\n (2, 'hear'),\n (2, 'got'),\n (2, 'god'),\n (2, 'go'),\n (2, 'getting'),\n (2, 'get'),\n (2, 'gay'),\n (2, 'feel'),\n (2, 'ever'),\n (2, 'even'),\n (2, 'done'),\n (2, 'boy'),\n (2, 'as'),\n (2, 'animal'),\n (2, 'al'),\n (1, 'yes'),\n (1, 'yeah'),\n (1, 'wunsy'),\n (1, 'wrong'),\n (1, 'work'),\n (1, 'woohoohoohoo'),\n (1, 'wonderful'),\n (1, 'without'),\n (1, 'whorish'),\n (1, 'went'),\n (1, 'vagina'),\n (1, 'upset'),\n (1, 'unh'),\n (1, 'uh'),\n (1, 'ugh'),\n (1, 'two'),\n (1, 'treated'),\n (1, 'together'),\n (1, 'thoughtless'),\n (1, 'thought'),\n (1, 'thanks'),\n (1, 'thank'),\n (1, 'tell'),\n (1, 'teach'),\n (1, 'talentless'),\n (1, 'taken'),\n (1, 'surgery'),\n (1, 'sure'),\n (1, 'su'),\n (1, 'stupid'),\n (1, 'stuff'),\n (1, 'study'),\n (1, 'stopped'),\n (1, 'stomach'),\n (1, 'spoiled'),\n (1, 'sound'),\n (1, 'something')]"
     },
     "execution_count": 136,
     "metadata": {},
     "output_type": "execute_result"
    }
   ],
   "source": [
    "word_dict_characters[\"Mr. Slave\"]"
   ],
   "metadata": {
    "collapsed": false,
    "pycharm": {
     "name": "#%%\n"
    }
   }
  },
  {
   "cell_type": "code",
   "execution_count": 137,
   "outputs": [
    {
     "data": {
      "text/plain": "[(29, 'let'),\n (20, 'oh'),\n (19, 'well'),\n (19, 'people'),\n (19, 'get'),\n (17, 'think'),\n (17, 'know'),\n (17, 'back'),\n (15, 'time'),\n (15, 'child'),\n (14, 'uh'),\n (14, 'need'),\n (13, 'like'),\n (13, 'go'),\n (13, 'father'),\n (13, 'come'),\n (12, 'yes'),\n (12, 'yeah'),\n (12, 'son'),\n (12, 'right'),\n (12, 'god'),\n (11, 'way'),\n (11, 'show'),\n (11, 'santa'),\n (11, 'one'),\n (11, 'jesus'),\n (11, 'best'),\n (10, 'okay'),\n (9, 'want'),\n (9, 'stop'),\n (9, 'stanley'),\n (9, 'make'),\n (9, 'little'),\n (8, 'year'),\n (8, 'yea'),\n (8, 'u'),\n (8, 'super'),\n (8, 'see'),\n (8, 'new'),\n (8, 'going'),\n (8, 'caller'),\n (8, 'buddha'),\n (7, 'turn'),\n (7, 'thing'),\n (7, 'something'),\n (7, 'millennium'),\n (7, 'kid'),\n (7, 'help'),\n (7, 'got'),\n (7, 'friend'),\n (6, 'ye'),\n (6, 'wait'),\n (6, 'tonight'),\n (6, 'stan'),\n (6, 'satan'),\n (6, 'problem'),\n (6, 'power'),\n (6, 'please'),\n (6, 'mr'),\n (6, 'look'),\n (6, 'life'),\n (6, 'good'),\n (6, 'find'),\n (6, 'away'),\n (6, 'around'),\n (5, 'thank'),\n (5, 'take'),\n (5, 'shall'),\n (5, 'seaman'),\n (5, 'say'),\n (5, 'really'),\n (5, 'park'),\n (5, 'must'),\n (5, 'muhammad'),\n (5, 'miracle'),\n (5, 'magic'),\n (5, 'kyle'),\n (5, 'kenny'),\n (5, 'gonna'),\n (5, 'fight'),\n (5, 'eye'),\n (5, 'evil'),\n (5, 'could'),\n (5, 'christmas'),\n (5, 'boy'),\n (5, 'believe'),\n (5, 'alright'),\n (4, 'worked'),\n (4, 'win'),\n (4, 'whatever'),\n (4, 'use'),\n (4, 'thou'),\n (4, 'sure'),\n (4, 'south'),\n (4, 'snow'),\n (4, 'rabbit'),\n (4, 'question'),\n (4, 'put'),\n (4, 'prophet'),\n (4, 'prayer')]"
     },
     "execution_count": 137,
     "metadata": {},
     "output_type": "execute_result"
    }
   ],
   "source": [
    "word_dict_characters[\"Jesus\"]\n"
   ],
   "metadata": {
    "collapsed": false,
    "pycharm": {
     "name": "#%%\n"
    }
   }
  },
  {
   "cell_type": "code",
   "execution_count": 138,
   "outputs": [
    {
     "data": {
      "text/plain": "[(247, 'child'),\n (89, 'oh'),\n (76, 'get'),\n (68, 'well'),\n (56, 'come'),\n (55, 'know'),\n (50, 'hello'),\n (49, 'got'),\n (48, 'right'),\n (44, 'love'),\n (44, 'gonna'),\n (43, 'like'),\n (42, 'make'),\n (41, 'go'),\n (40, 'see'),\n (39, 'uh'),\n (38, 'let'),\n (36, 'okay'),\n (34, 'yeah'),\n (31, 'say'),\n (31, 'people'),\n (31, 'need'),\n (29, 'want'),\n (29, 'hell'),\n (28, 'woman'),\n (28, 'time'),\n (27, 'think'),\n (27, 'look'),\n (25, 'little'),\n (24, 'thing'),\n (24, 'eric'),\n (23, 'man'),\n (23, 'god'),\n (23, 'back'),\n (22, 'flag'),\n (21, 'mr'),\n (21, 'good'),\n (21, 'damn'),\n (21, 'boy'),\n (21, 'baby'),\n (20, 'stan'),\n (19, 'wait'),\n (19, 'one'),\n (18, 'really'),\n (18, 'help'),\n (18, 'going'),\n (17, 'mean'),\n (17, 'hey'),\n (17, 'give'),\n (16, 'sorry'),\n (16, 'gotta'),\n (16, 'cracker'),\n (16, 'chef'),\n (16, 'bad'),\n (16, 'as'),\n (15, 'town'),\n (15, 'take'),\n (15, 'park'),\n (15, 'find'),\n (15, 'doctor'),\n (15, 'black'),\n (15, 'big'),\n (15, 'alright'),\n (15, 'alien'),\n (14, 'would'),\n (14, 'tell'),\n (14, 'south'),\n (14, 'something'),\n (14, 'ball'),\n (14, 'around'),\n (13, 'song'),\n (13, 'school'),\n (13, 'life'),\n (13, 'kyle'),\n (13, 'goin'),\n (13, 'fudge'),\n (13, 'everybody'),\n (13, 'em'),\n (13, 'change'),\n (13, 'better'),\n (12, 'yes'),\n (12, 'u'),\n (12, 'sure'),\n (12, 'might'),\n (12, 'kenny'),\n (12, 'huh'),\n (12, 'fine'),\n (12, 'ever'),\n (12, 'doin'),\n (12, 'day'),\n (12, 'could'),\n (12, 'call'),\n (11, 'problem'),\n (11, 'play'),\n (11, 'night'),\n (11, 'kid'),\n (11, 'hold'),\n (11, 'every'),\n (11, 'even'),\n (10, 'white')]"
     },
     "execution_count": 138,
     "metadata": {},
     "output_type": "execute_result"
    }
   ],
   "source": [
    "word_dict_characters[\"Chef\"]"
   ],
   "metadata": {
    "collapsed": false,
    "pycharm": {
     "name": "#%%\n"
    }
   }
  },
  {
   "cell_type": "code",
   "execution_count": 139,
   "outputs": [
    {
     "data": {
      "text/plain": "[(34, 'fish'),\n (27, 'hobbit'),\n (27, 'gay'),\n (14, 'hold'),\n (12, 'yo'),\n (12, 'yeah'),\n (12, 'sorry'),\n (12, 'okay'),\n (11, 'love'),\n (11, 'like'),\n (11, 'know'),\n (10, 'got'),\n (9, 'alright'),\n (8, 'yes'),\n (8, 'little'),\n (8, 'genius'),\n (7, 'right'),\n (7, 'girl'),\n (6, 'yep'),\n (6, 'people'),\n (6, 'fishsticks'),\n (6, 'bitch'),\n (6, 'beyoncé'),\n (5, 'uh'),\n (5, 'said'),\n (5, 'motherfuckin'),\n (5, 'jelly'),\n (5, 'get'),\n (5, 'fiancée'),\n (5, 'beautiful'),\n (4, 'world'),\n (4, 'oh'),\n (4, 'need'),\n (4, 'movie'),\n (4, 'make'),\n (4, 'let'),\n (4, 'god'),\n (4, 'everyone'),\n (4, 'even'),\n (4, 'come'),\n (4, 'called'),\n (4, 'aquaman'),\n (3, 'yup'),\n (3, 'understand'),\n (3, 'time'),\n (3, 'though'),\n (3, 'think'),\n (3, 'show'),\n (3, 'rumor'),\n (3, 'pipe'),\n (3, 'one'),\n (3, 'monster'),\n (3, 'man'),\n (3, 'makin'),\n (3, 'look'),\n (3, 'live'),\n (3, 'kim'),\n (3, 'ground'),\n (3, 'gonna'),\n (3, 'gill'),\n (3, 'fun'),\n (3, 'fuck'),\n (3, 'cuz'),\n (3, 'cause'),\n (2, 'woman'),\n (2, 'whoa'),\n (2, 'wanted'),\n (2, 'voice'),\n (2, 'true'),\n (2, 'tell'),\n (2, 'take'),\n (2, 'swim'),\n (2, 'started'),\n (2, 'smoke'),\n (2, 'short'),\n (2, 'sexy'),\n (2, 'see'),\n (2, 'sad'),\n (2, 'power'),\n (2, 'play'),\n (2, 'much'),\n (2, 'mouth'),\n (2, 'motherfucker'),\n (2, 'mean'),\n (2, 'malicious'),\n (2, 'making'),\n (2, 'magic'),\n (2, 'loved'),\n (2, 'long'),\n (2, 'lonely'),\n (2, 'lived'),\n (2, 'huh'),\n (2, 'homosexual'),\n (2, 'hole'),\n (2, 'hell'),\n (2, 'hater'),\n (2, 'guy'),\n (2, 'go'),\n (2, 'generation'),\n (2, 'frozen')]"
     },
     "execution_count": 139,
     "metadata": {},
     "output_type": "execute_result"
    }
   ],
   "source": [
    "word_dict_characters[\"Kanye\"]"
   ],
   "metadata": {
    "collapsed": false,
    "pycharm": {
     "name": "#%%\n"
    }
   }
  },
  {
   "cell_type": "code",
   "execution_count": 144,
   "outputs": [
    {
     "data": {
      "text/plain": "[(5, 'oh'),\n (5, 'haqa'),\n (5, 'fatwa'),\n (4, 'jihad'),\n (4, 'allah'),\n (2, 'qubada'),\n (2, 'mi'),\n (2, 'durqaana'),\n (2, 'bella'),\n (2, 'ameriqa'),\n (1, 'wuut'),\n (1, 'writing'),\n (1, 'vino'),\n (1, 'une'),\n (1, 'una'),\n (1, 'uh'),\n (1, 'u'),\n (1, 'totally'),\n (1, 'think'),\n (1, 'terrorist'),\n (1, 'tabakabaka'),\n (1, 'taba'),\n (1, 'sesame'),\n (1, 'see'),\n (1, 'ramadan'),\n (1, 'proila'),\n (1, 'plot'),\n (1, 'people'),\n (1, 'peitoqaba'),\n (1, 'open'),\n (1, 'oooo'),\n (1, 'ohhh'),\n (1, 'ogh'),\n (1, 'never'),\n (1, 'maladala'),\n (1, 'mala'),\n (1, 'look'),\n (1, 'la'),\n (1, 'joke'),\n (1, 'j'),\n (1, 'ishta'),\n (1, 'hulagugla'),\n (1, 'hugagugahagahaa'),\n (1, 'haqahaqa'),\n (1, 'haqadaqadaqa'),\n (1, 'haqaama'),\n (1, 'haq'),\n (1, 'hamahamahama'),\n (1, 'hamahama'),\n (1, 'hamahalahamahaqa'),\n (1, 'hakadurrpa'),\n (1, 'haka'),\n (1, 'hagalah'),\n (1, 'guy'),\n (1, 'gay'),\n (1, 'foqabam'),\n (1, 'floop'),\n (1, 'flippity'),\n (1, 'flappity'),\n (1, 'family'),\n (1, 'falafel'),\n (1, 'eheeee'),\n (1, 'dursha'),\n (1, 'durpa'),\n (1, 'durbadurba'),\n (1, 'derive'),\n (1, 'de'),\n (1, 'dapidiuta'),\n (1, 'dapadapadapa'),\n (1, 'daaqadaqa'),\n (1, 'craziest'),\n (1, 'closely'),\n (1, 'bataqataqaa'),\n (1, 'aw'),\n (1, 'arrrrrrrrrrrubadubaduba'),\n (1, 'amore'),\n (1, 'ameriqanab'),\n (1, 'america'),\n (1, 'amalama'),\n (1, 'alamalamalamalaah'),\n (1, 'ako'),\n (1, 'ai'),\n (1, 'ahh'),\n (1, 'adurpa'),\n (1, 'adirqadirqa')]"
     },
     "execution_count": 144,
     "metadata": {},
     "output_type": "execute_result"
    }
   ],
   "source": [
    "word_dict_characters[\"Osama bin Laden\"]"
   ],
   "metadata": {
    "collapsed": false,
    "pycharm": {
     "name": "#%%\n"
    }
   }
  },
  {
   "cell_type": "code",
   "execution_count": null,
   "outputs": [],
   "source": [],
   "metadata": {
    "collapsed": false,
    "pycharm": {
     "name": "#%%\n"
    }
   }
  }
 ],
 "metadata": {
  "kernelspec": {
   "display_name": "Python 3",
   "language": "python",
   "name": "python3"
  },
  "language_info": {
   "codemirror_mode": {
    "name": "ipython",
    "version": 2
   },
   "file_extension": ".py",
   "mimetype": "text/x-python",
   "name": "python",
   "nbconvert_exporter": "python",
   "pygments_lexer": "ipython2",
   "version": "2.7.6"
  }
 },
 "nbformat": 4,
 "nbformat_minor": 0
}